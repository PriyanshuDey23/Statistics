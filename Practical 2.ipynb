{
 "cells": [
  {
   "cell_type": "markdown",
   "id": "acde81b1",
   "metadata": {},
   "source": [
    "## Outliers"
   ]
  },
  {
   "cell_type": "code",
   "execution_count": 1,
   "id": "e5a51cc6",
   "metadata": {},
   "outputs": [],
   "source": [
    "import numpy as np\n",
    "import pandas as pd\n",
    "import matplotlib.pyplot as plt\n",
    "%matplotlib inline"
   ]
  },
  {
   "cell_type": "code",
   "execution_count": 2,
   "id": "32e081ff",
   "metadata": {},
   "outputs": [],
   "source": [
    "## Define our dataset\n",
    "dataset=[11,10,12,14,13,15,102,12,107,10,12,108,108,12,11,15,10,13,15,10,200]"
   ]
  },
  {
   "cell_type": "code",
   "execution_count": 3,
   "id": "0c072ba7",
   "metadata": {},
   "outputs": [],
   "source": [
    "#using z score find the outliers (check the copy)\n",
    "outliers=[] # we define a list\n",
    "\n",
    "def detect_outliers(data): # initialize the function\n",
    "    threshold= 3 ## i.e. 3 standard deviation (if anything fall above 3 std , it will be a outlier)\n",
    "    mean=np.mean(data) #mean\n",
    "    std=np.std(data) # std\n",
    "    \n",
    "# Apply z score on all the value z_score-(how many std it is away from mean)\n",
    "    for i in data:\n",
    "        z_score=(i-mean)/std\n",
    "        if np.abs(z_score) > threshold: # it is a outlier\n",
    "            outliers.append(i)\n",
    "            \n",
    "    return outliers\n",
    "    \n",
    "    \n",
    "    "
   ]
  },
  {
   "cell_type": "code",
   "execution_count": 4,
   "id": "7672d5dd",
   "metadata": {},
   "outputs": [
    {
     "data": {
      "text/plain": [
       "[200]"
      ]
     },
     "execution_count": 4,
     "metadata": {},
     "output_type": "execute_result"
    }
   ],
   "source": [
    "detect_outliers(dataset)"
   ]
  },
  {
   "cell_type": "code",
   "execution_count": 5,
   "id": "605d306f",
   "metadata": {},
   "outputs": [
    {
     "data": {
      "text/plain": [
       "[10,\n",
       " 10,\n",
       " 10,\n",
       " 10,\n",
       " 11,\n",
       " 11,\n",
       " 12,\n",
       " 12,\n",
       " 12,\n",
       " 12,\n",
       " 13,\n",
       " 13,\n",
       " 14,\n",
       " 15,\n",
       " 15,\n",
       " 15,\n",
       " 102,\n",
       " 107,\n",
       " 108,\n",
       " 108,\n",
       " 200]"
      ]
     },
     "execution_count": 5,
     "metadata": {},
     "output_type": "execute_result"
    }
   ],
   "source": [
    "# inter Quartile Range (iqr) we need to find the lower fence and higher fence\n",
    "#sort the data\n",
    "dataset=sorted(dataset)\n",
    "dataset"
   ]
  },
  {
   "cell_type": "code",
   "execution_count": 6,
   "id": "655db6ca",
   "metadata": {},
   "outputs": [
    {
     "name": "stdout",
     "output_type": "stream",
     "text": [
      "11.0 15.0\n"
     ]
    }
   ],
   "source": [
    "# calculate qi and q3\n",
    "q1,q3=np.percentile(dataset,[25,75])\n",
    "print (q1,q3)"
   ]
  },
  {
   "cell_type": "code",
   "execution_count": 9,
   "id": "76c12888",
   "metadata": {},
   "outputs": [
    {
     "name": "stdout",
     "output_type": "stream",
     "text": [
      "4.0\n"
     ]
    }
   ],
   "source": [
    "#calculate iqr\n",
    "iqr= q3-q1\n",
    "print(iqr)"
   ]
  },
  {
   "cell_type": "code",
   "execution_count": 11,
   "id": "57fa0f67",
   "metadata": {},
   "outputs": [
    {
     "data": {
      "text/plain": [
       "5.0"
      ]
     },
     "execution_count": 11,
     "metadata": {},
     "output_type": "execute_result"
    }
   ],
   "source": [
    "# find lower fence\n",
    "lower_fence= q1-(1.5*iqr)\n",
    "lower_fence"
   ]
  },
  {
   "cell_type": "code",
   "execution_count": 13,
   "id": "4583f0ac",
   "metadata": {},
   "outputs": [
    {
     "data": {
      "text/plain": [
       "9.0"
      ]
     },
     "execution_count": 13,
     "metadata": {},
     "output_type": "execute_result"
    }
   ],
   "source": [
    "# find higher  fence\n",
    "higher_fence= q3-(1.5*iqr)\n",
    "higher_fence"
   ]
  },
  {
   "cell_type": "code",
   "execution_count": 14,
   "id": "28bcab5d",
   "metadata": {},
   "outputs": [
    {
     "data": {
      "text/plain": [
       "<Axes: >"
      ]
     },
     "execution_count": 14,
     "metadata": {},
     "output_type": "execute_result"
    },
    {
     "data": {
      "image/png": "[encoded data removed]",
      "text/plain": [
       "<Figure size 640x480 with 1 Axes>"
      ]
     },
     "metadata": {},
     "output_type": "display_data"
    }
   ],
   "source": [
    "import seaborn as sns\n",
    "sns.boxplot(dataset,orient='h')"
   ]
  },
  {
   "cell_type": "code",
   "execution_count": null,
   "id": "93332cb0",
   "metadata": {},
   "outputs": [],
   "source": []
  }
 ],
 "metadata": {
  "kernelspec": {
   "display_name": "Python 3 (ipykernel)",
   "language": "python",
   "name": "python3"
  },
  "language_info": {
   "codemirror_mode": {
    "name": "ipython",
    "version": 3
   },
   "file_extension": ".py",
   "mimetype": "text/x-python",
   "name": "python",
   "nbconvert_exporter": "python",
   "pygments_lexer": "ipython3",
   "version": "3.11.4"
  }
 },
 "nbformat": 4,
 "nbformat_minor": 5
}
